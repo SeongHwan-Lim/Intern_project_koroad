{
 "cells": [
  {
   "cell_type": "code",
   "execution_count": 1,
   "metadata": {
    "scrolled": true
   },
   "outputs": [],
   "source": [
    "import pandas as pd\n",
    "import numpy as np\n",
    "\n",
    "preprocess = pd.read_csv(\"D:\\\\jupyter_proj\\\\gis_X.csv\")\n",
    "danger_degree = pd.read_csv(\"D:\\\\jupyter_proj\\\\basic.csv\",encoding='euc-kr')\n",
    "\n",
    "taas = pd.concat([preprocess,danger_degree],axis=1)"
   ]
  },
  {
   "cell_type": "code",
   "execution_count": 2,
   "metadata": {
    "scrolled": true
   },
   "outputs": [
    {
     "name": "stderr",
     "output_type": "stream",
     "text": [
      "C:\\Anaconda3\\lib\\site-packages\\ipykernel_launcher.py:5: SettingWithCopyWarning: \n",
      "A value is trying to be set on a copy of a slice from a DataFrame\n",
      "\n",
      "See the caveats in the documentation: https://pandas.pydata.org/pandas-docs/stable/user_guide/indexing.html#returning-a-view-versus-a-copy\n",
      "  \"\"\"\n",
      "C:\\Anaconda3\\lib\\site-packages\\ipykernel_launcher.py:7: SettingWithCopyWarning: \n",
      "A value is trying to be set on a copy of a slice from a DataFrame\n",
      "\n",
      "See the caveats in the documentation: https://pandas.pydata.org/pandas-docs/stable/user_guide/indexing.html#returning-a-view-versus-a-copy\n",
      "  import sys\n",
      "C:\\Anaconda3\\lib\\site-packages\\ipykernel_launcher.py:11: SettingWithCopyWarning: \n",
      "A value is trying to be set on a copy of a slice from a DataFrame\n",
      "\n",
      "See the caveats in the documentation: https://pandas.pydata.org/pandas-docs/stable/user_guide/indexing.html#returning-a-view-versus-a-copy\n",
      "  # This is added back by InteractiveShellApp.init_path()\n",
      "C:\\Anaconda3\\lib\\site-packages\\ipykernel_launcher.py:13: SettingWithCopyWarning: \n",
      "A value is trying to be set on a copy of a slice from a DataFrame\n",
      "\n",
      "See the caveats in the documentation: https://pandas.pydata.org/pandas-docs/stable/user_guide/indexing.html#returning-a-view-versus-a-copy\n",
      "  del sys.path[0]\n"
     ]
    }
   ],
   "source": [
    "taas = pd.DataFrame(taas)\n",
    "\n",
    "for i in range(0,len(taas)):\n",
    "    try: \n",
    "        taas['연령피해자'][i]=int(taas['연령피해자'][i].replace(\"세\",\"\"))\n",
    "    except:\n",
    "        taas['연령피해자'][i]=0\n",
    "        \n",
    "for j in range(0,len(taas)):\n",
    "    try: \n",
    "        taas['연령가해자'][j]=int(taas['연령가해자'][j].replace(\"세\",\"\"))\n",
    "    except:\n",
    "        taas['연령가해자'][j]=0"
   ]
  },
  {
   "cell_type": "code",
   "execution_count": 19,
   "metadata": {
    "scrolled": true
   },
   "outputs": [
    {
     "name": "stdout",
     "output_type": "stream",
     "text": [
      "0           경형\n",
      "1           중형\n",
      "2           중형\n",
      "3           대형\n",
      "4          보행자\n",
      "          ... \n",
      "263500     화물차\n",
      "263501    기타불명\n",
      "263502     승용차\n",
      "263503     보행자\n",
      "263504     자전거\n",
      "Name: 당사자종별피해자, Length: 263505, dtype: object\n"
     ]
    }
   ],
   "source": [
    "print(taas['당사자종별피해자'])"
   ]
  },
  {
   "cell_type": "code",
   "execution_count": 3,
   "metadata": {},
   "outputs": [],
   "source": [
    "over_60 = taas['연령피해자'] >= 60\n",
    "walker = taas['당사자종별피해자'] == '보행자'\n",
    "\n",
    "walker_60 = taas[over_60&walker]\n",
    "\n",
    "walker_60_suwon = walker_60[walker_60['발생지_시군구'] == '수원시']\n",
    "walker_60_suwon = walker_60_suwon.drop('발생지_시군구', axis=1)"
   ]
  },
  {
   "cell_type": "code",
   "execution_count": 6,
   "metadata": {},
   "outputs": [],
   "source": [
    "walker_60_suwon.to_csv(\"walker_60_suwon.csv\")"
   ]
  },
  {
   "cell_type": "code",
   "execution_count": 8,
   "metadata": {
    "scrolled": true
   },
   "outputs": [
    {
     "name": "stdout",
     "output_type": "stream",
     "text": [
      "Index(['가해자성별', '교차로형태', '기상상태', '노면상태', '노면상태_대분류', '노인보호구역', '당사자종별가해자',\n",
      "       '당사자종별피해자', '도로선형', '도로선형_대분류', '도로선형_중분류', '도로종류', '도로형태', '법규위반가해자',\n",
      "       '보호장구가해자_대분류', '보호장구피해자_대분류', '사고유형', '사고유형_대분류', '어린이보호구역', '연령가해자',\n",
      "       '연령피해자', '요일', '주야', '차량용도가해자', '차량용도가해자_대분류', '차량용도피해자', '차량용도피해자_대분류',\n",
      "       '피해자성별', '행동유형가해자', '행동유형피해자', '행동유형피해자_대분류', '도로심각도지수basic'],\n",
      "      dtype='object')\n"
     ]
    }
   ],
   "source": [
    "print(walker_60_suwon.columns)"
   ]
  },
  {
   "cell_type": "code",
   "execution_count": 5,
   "metadata": {},
   "outputs": [],
   "source": [
    "dummy_가해자성별 = pd.get_dummies(walker_60_suwon['가해자성별'], prefix='가해자성별')\n",
    "dummy_교차로형태 = pd.get_dummies(walker_60_suwon['교차로형태'], prefix='교차로형태')\n",
    "dummy_기상상태 = pd.get_dummies(walker_60_suwon['기상상태'], prefix='기상상태')\n",
    "dummy_노면상태 = pd.get_dummies(walker_60_suwon['노면상태'], prefix='노면상태')\n",
    "dummy_노면상태_대분류 = pd.get_dummies(walker_60_suwon['노면상태_대분류'], prefix='노면상태_대분류')\n",
    "dummy_노인보호구역 = pd.get_dummies(walker_60_suwon['노인보호구역'], prefix='노인보호구역')\n",
    "dummy_당사자종별가해자 = pd.get_dummies(walker_60_suwon['당사자종별가해자'], prefix='당사자종별가해자')\n",
    "dummy_당사자종별피해자 = pd.get_dummies(walker_60_suwon['당사자종별피해자'], prefix='당사자종별피해자')\n",
    "dummy_도로선형 = pd.get_dummies(walker_60_suwon['도로선형'], prefix='도로선형')\n",
    "dummy_도로선형_대분류 = pd.get_dummies(walker_60_suwon['도로선형_대분류'], prefix='도로선형_대분류')\n",
    "dummy_도로선형_중분류 = pd.get_dummies(walker_60_suwon['도로선형_중분류'], prefix='도로선형_중분류')\n",
    "dummy_도로종류 = pd.get_dummies(walker_60_suwon['도로종류'], prefix='도로종류')\n",
    "dummy_도로형태 = pd.get_dummies(walker_60_suwon['도로형태'], prefix='도로형태')\n",
    "dummy_법규위반가해자 = pd.get_dummies(walker_60_suwon['법규위반가해자'], prefix='법규위반가해자')\n",
    "dummy_보호장구가해자_대분류 = pd.get_dummies(walker_60_suwon['보호장구가해자_대분류'], prefix='보호장구가해자_대분류')\n",
    "dummy_보호장구피해자_대분류 = pd.get_dummies(walker_60_suwon['보호장구피해자_대분류'], prefix='보호장구피해자_대분류')\n",
    "dummy_사고유형 = pd.get_dummies(walker_60_suwon['사고유형'], prefix='사고유형')\n",
    "dummy_사고유형_대분류 = pd.get_dummies(walker_60_suwon['사고유형_대분류'], prefix='사고유형_대분류')\n",
    "dummy_어린이보호구역 = pd.get_dummies(walker_60_suwon['어린이보호구역'], prefix='어린이보호구역')\n",
    "dummy_요일 = pd.get_dummies(walker_60_suwon['요일'], prefix='요일')\n",
    "dummy_주야 = pd.get_dummies(walker_60_suwon['주야'], prefix='주야')\n",
    "dummy_차량용도가해자 = pd.get_dummies(walker_60_suwon['차량용도가해자'], prefix='차량용도가해자')\n",
    "dummy_차량용도가해자_대분류 = pd.get_dummies(walker_60_suwon['차량용도가해자_대분류'], prefix='차량용도가해자_대분류')\n",
    "dummy_차량용도피해자 = pd.get_dummies(walker_60_suwon['차량용도피해자'], prefix='차량용도피해자')\n",
    "dummy_차량용도피해자_대분류 = pd.get_dummies(walker_60_suwon['차량용도피해자_대분류'], prefix='차량용도피해자_대분류')\n",
    "dummy_피해자성별 = pd.get_dummies(walker_60_suwon['피해자성별'], prefix='피해자성별')\n",
    "dummy_행동유형가해자 = pd.get_dummies(walker_60_suwon['행동유형가해자'], prefix='행동유형가해자')\n",
    "dummy_행동유형피해자 = pd.get_dummies(walker_60_suwon['행동유형피해자'], prefix='행동유형피해자')\n",
    "dummy_행동유형피해자_대분류 = pd.get_dummies(walker_60_suwon['행동유형피해자_대분류'], prefix='행동유형피해자_대분류')"
   ]
  },
  {
   "cell_type": "code",
   "execution_count": 6,
   "metadata": {},
   "outputs": [],
   "source": [
    "continues_cols = ['연령가해자','연령피해자']\n",
    "walker_60_continues = walker_60_suwon[continues_cols]\n",
    "\n",
    "walker_60_f = pd.concat([dummy_가해자성별, dummy_교차로형태, dummy_기상상태, dummy_노면상태, dummy_노면상태_대분류, dummy_노인보호구역, \n",
    "                        dummy_당사자종별가해자, dummy_당사자종별피해자, dummy_도로선형, dummy_도로선형_대분류, dummy_도로선형_중분류, \n",
    "                        dummy_도로종류, dummy_도로형태, dummy_법규위반가해자, dummy_보호장구가해자_대분류, \n",
    "                        dummy_보호장구피해자_대분류, dummy_사고유형, dummy_사고유형_대분류, dummy_어린이보호구역, dummy_요일, \n",
    "                        dummy_주야,dummy_차량용도가해자, dummy_차량용도가해자_대분류, dummy_차량용도피해자, dummy_차량용도피해자_대분류,\n",
    "                        dummy_피해자성별, dummy_행동유형가해자, dummy_행동유형피해자, dummy_행동유형피해자_대분류,walker_60_continues, \n",
    "                        walker_60_suwon['도로심각도지수basic']], axis=1)"
   ]
  },
  {
   "cell_type": "code",
   "execution_count": 16,
   "metadata": {},
   "outputs": [
    {
     "name": "stdout",
     "output_type": "stream",
     "text": [
      "Index(['가해자성별_기타불명', '가해자성별_남', '가해자성별_여', '교차로형태_교차로사지', '교차로형태_교차로삼지',\n",
      "       '교차로형태_교차로아님', '교차로형태_교차로오지이상', '교차로형태_교차로회전', '교차로형태_기타불명',\n",
      "       '기상상태_기타불명',\n",
      "       ...\n",
      "       '행동유형피해자_보행자 육교부근횡단중', '행동유형피해자_보행자 하차중관련', '행동유형피해자_보행자 횡단보도내',\n",
      "       '행동유형피해자_보행자 횡단보도부근횡단중', '행동유형피해자_보행자 횡단보도외', '행동유형피해자_보행자 횡단보도횡단중',\n",
      "       '행동유형피해자_대분류_보행자', '연령가해자', '연령피해자', '도로심각도지수basic'],\n",
      "      dtype='object', length=179)\n"
     ]
    }
   ],
   "source": [
    "print(walker_60_f.columns)"
   ]
  },
  {
   "cell_type": "code",
   "execution_count": 7,
   "metadata": {},
   "outputs": [],
   "source": [
    "from sklearn.model_selection import train_test_split\n",
    "from sklearn.metrics import accuracy_score, classification_report\n",
    "\n",
    "xval = walker_60_f[walker_60_f.columns.difference(['도로심각도지수basic'])]\n",
    "yval = walker_60_f['도로심각도지수basic']"
   ]
  },
  {
   "cell_type": "code",
   "execution_count": 11,
   "metadata": {},
   "outputs": [],
   "source": [
    "x_train, x_test, y_train, y_test = train_test_split(xval, yval, train_size=0.7, random_state=97)"
   ]
  },
  {
   "cell_type": "code",
   "execution_count": 17,
   "metadata": {},
   "outputs": [],
   "source": [
    "import statsmodels.api as sm\n",
    "\n",
    "x_train_new = sm.add_constant(x_train)\n",
    "x_test_new = sm.add_constant(x_test)\n",
    "\n",
    "remove_cols = ['기상상태_눈','노인보호구역_예','당사자종별가해자_개인형이동수단PM','당사자종별가해자_소형','당사자종별가해자_대형','도로종류_일반국도',\n",
    "              '도로종류_군도','도로종류_지방도','행동유형피해자_보행자 기타횡단중','행동유형피해자_보행자 기타불명','교차로형태_교차로아님','교차로형태_교차로오지이상',\n",
    "              '기상상태_비','기상상태_기타불명','노면상태_대분류_포장 적설','노면상태_적설','노면상태_대분류_포장 건조','노면상태_건조','노면상태_서리결빙',\n",
    "              '도로형태_고가도로위','행동유형피해자_보행자 보도통행','노면상태_대분류_비포장 젖음습기','노면상태_대분류_포장 젖음습기','도로형태_교차로내',\n",
    "              '도로형태_교차로횡단보도내','법규위반가해자_안전거리미확보','법규위반가해자_중앙선침범','법규위반가해자_기타불명','법규위반가해자_안전운전의무불이행',\n",
    "              '차량용도가해자_대분류_개인형이동수단PM','차량용도가해자_개인형이동수단PM','차량용도가해자_대분류_비사업용','차량용도가해자_비사업용 화물차',\n",
    "              '차량용도가해자_사업용 고속버스','차량용도가해자_사업용 렌터카','차량용도가해자_사업용 기타불명','차량용도가해자_사업용 덤프트럭','차량용도가해자_사업용 마을버스',\n",
    "              '차량용도가해자_사업용 시외버스','차량용도가해자_사업용 화물차','피해자성별_여','기상상태_안개','노면상태_대분류_포장 서리결빙','도로형태_교량위',\n",
    "              '법규위반가해자_교차로통행방법위반','보호장구가해자_대분류_안전모','요일_화','차량용도가해자_대분류_사업용','행동유형가해자_직진중',\n",
    "              '행동유형피해자_보행자 노상작업중','가해자성별_여','가해자성별_남','도로형태_지하차도도로내','당사자종별가해자_건설기계','도로선형_평지',\n",
    "              '당사자종별피해자_보행자','도로선형_내리막','도로선형_기타서비스구역','행동유형피해자_보행자 횡단보도내','노면상태_대분류_포장','도로선형_대분류_기타구역',\n",
    "              '행동유형피해자_보행자 기타노상유희중','노면상태_기타불명','도로선형_대분류_직선','교차로형태_교차로사지','교차로형태_교차로회전',\n",
    "              '교차로형태_교차로삼지','당사자종별가해자_기타불명','도로선형_대분류_우 커브곡각','도로선형_중분류_우','보호장구가해자_대분류_안전벨트카시트',\n",
    "              '행동유형피해자_보행자 도로위작업중','도로선형_중분류_기타구역','주야_야','도로선형_중분류_직선','보호장구가해자_대분류_기타불명','차량용도가해자_사업용 전세버스',\n",
    "              '차량용도가해자_비사업용 버스','연령가해자','요일_수','차량용도가해자_기타불명','도로선형_오르막','행동유형피해자_보행자 길가장자리구역통행중',\n",
    "              '행동유형피해자_보행자 등지고통행','요일_금','차량용도가해자_사업용 용달화물','행동유형가해자_진로변경중','차량용도가해자_대분류_기타불명',\n",
    "              '행동유형가해자_주행중대기','행동유형피해자_보행자 도로위놀이중','차량용도가해자_사업용 일반화물','차량용도가해자_대분류_이륜차','차량용도가해자_이륜차',\n",
    "              '당사자종별가해자_승합차','사고유형_기타불명','행동유형가해자_우회전중','도로형태_기타불명','교차로형태_기타불명','행동유형피해자_보행자 보도통행중',\n",
    "              '도로선형_대분류_좌 커브곡각','도로선형_중분류_좌','노인보호구역_아니오','보호장구피해자_대분류_보행자','행동유형가해자_기타불명','차량용도피해자_대분류_보행자',\n",
    "              '행동유형피해자_대분류_보행자','사고유형_대분류_차대사람 횡단중','사고유형_횡단중','사고유형_차도통행중','사고유형_대분류_차대사람 차도통행중',\n",
    "              '차량용도피해자_보행자','어린이보호구역_아니오','도로형태_횡단보도상','행동유형피해자_보행자 횡단보도횡단중','행동유형피해자_보행자 등지고통행중차도',\n",
    "              '행동유형피해자_보행자 마주보고통행','도로형태_주차장','당사자종별가해자_중형','행동유형피해자_보행자 마주보고통행중차도','행동유형피해자_보행자 횡단보도부근횡단중',\n",
    "              '행동유형가해자_U턴중','법규위반가해자_보행자보호의무위반','차량용도가해자_대분류_원동기장치자전거','당사자종별가해자_원동기장치자전거',\n",
    "              '차량용도가해자_원동기장치자전거','차량용도가해자_비사업용 기타건설기계','행동유형피해자_보행자 길가장자리구역통행','어린이보호구역_예',\n",
    "              '당사자종별가해자_자전거','차량용도가해자_대분류_자전거','요일_토','차량용도가해자_자전거','요일_월','요일_일','행동유형피해자_보행자 하차중관련',\n",
    "              '요일_목','당사자종별가해자_경형','차량용도가해자_사업용 법인택시','행동유형피해자_보행자 승차중관련','행동유형가해자_후진중','행동유형가해자_출발중',\n",
    "              '행동유형가해자_출발중','당사자종별가해자_승용차','행동유형가해자_좌우회전중','도로형태_교차로부근','도로형태_기타단일로',\n",
    "              '기상상태_맑음','법규위반가해자_신호위반','가해자성별_기타불명','피해자성별_남','당사자종별가해자_이륜차','기상상태_흐림',\n",
    "              '도로종류_기타불명','행동유형피해자_보행자 육교부근횡단중','도로종류_시도','법규위반가해자_과속','노면상태_대분류_포장 침수',\n",
    "              '노면상태_침수','차량용도가해자_비사업용 비사업용기타','차량용도가해자_비사업용 승용차','사고유형_길가장자리구역통행중','사고유형_대분류_차대사람 길가장자리구역통행중',\n",
    "              '행동유형가해자_좌회전중','노면상태_젖음습기','차량용도가해자_사업용 기타건설기계','사고유형_대분류_차대사람 보도통행중','사고유형_보도통행중']\n",
    "full_mod = sm.OLS(y_train.astype(float), x_train_new.astype(float).drop(remove_cols, axis=1))"
   ]
  },
  {
   "cell_type": "code",
   "execution_count": 18,
   "metadata": {},
   "outputs": [
    {
     "name": "stdout",
     "output_type": "stream",
     "text": [
      "\n",
      "\n",
      "                                  OLS Regression Results                                \n",
      "=======================================================================================\n",
      "Dep. Variable:           도로심각도지수basic   R-squared (uncentered):                   0.304\n",
      "Model:                            OLS   Adj. R-squared (uncentered):              0.296\n",
      "Method:                 Least Squares   F-statistic:                              36.57\n",
      "Date:                Mon, 09 Nov 2020   Prob (F-statistic):                    6.32e-71\n",
      "Time:                        13:14:36   Log-Likelihood:                          325.26\n",
      "No. Observations:                1017   AIC:                                     -626.5\n",
      "Df Residuals:                    1005   BIC:                                     -567.4\n",
      "Df Model:                          12                                                  \n",
      "Covariance Type:            nonrobust                                                  \n",
      "========================================================================================\n",
      "                           coef    std err          t      P>|t|      [0.025      0.975]\n",
      "----------------------------------------------------------------------------------------\n",
      "당사자종별가해자_화물차             0.0761      0.022      3.396      0.001       0.032       0.120\n",
      "도로형태_횡단보도부근              0.3423      0.102      3.340      0.001       0.141       0.543\n",
      "사고유형_대분류_차대사람           -0.0262      0.012     -2.207      0.028      -0.050      -0.003\n",
      "연령피해자                    0.0015      0.000      9.772      0.000       0.001       0.002\n",
      "주야_주                    -0.0378      0.012     -3.104      0.002      -0.062      -0.014\n",
      "차량용도가해자_비사업용 어린이통학버스     0.1523      0.067      2.267      0.024       0.020       0.284\n",
      "차량용도가해자_사업용 개별화물         0.4180      0.125      3.338      0.001       0.172       0.664\n",
      "차량용도가해자_사업용 개인택시         0.0701      0.033      2.155      0.031       0.006       0.134\n",
      "차량용도가해자_사업용 시내버스         0.0929      0.022      4.197      0.000       0.049       0.136\n",
      "행동유형가해자_앞지르기중            0.7270      0.179      4.063      0.000       0.376       1.078\n",
      "행동유형가해자_주정차중            -0.0883      0.042     -2.119      0.034      -0.170      -0.007\n",
      "행동유형피해자_보행자 횡단보도외        0.0779      0.017      4.497      0.000       0.044       0.112\n",
      "==============================================================================\n",
      "Omnibus:                      831.567   Durbin-Watson:                   2.043\n",
      "Prob(Omnibus):                  0.000   Jarque-Bera (JB):            13739.823\n",
      "Skew:                           3.842   Prob(JB):                         0.00\n",
      "Kurtosis:                      19.285   Cond. No.                     2.31e+03\n",
      "==============================================================================\n",
      "\n",
      "Warnings:\n",
      "[1] Standard Errors assume that the covariance matrix of the errors is correctly specified.\n",
      "[2] The condition number is large, 2.31e+03. This might indicate that there are\n",
      "strong multicollinearity or other numerical problems.\n"
     ]
    }
   ],
   "source": [
    "full_res = full_mod.fit()\n",
    "print(\"\\n\\n\",full_res.summary())"
   ]
  },
  {
   "cell_type": "code",
   "execution_count": 14,
   "metadata": {
    "scrolled": false
   },
   "outputs": [
    {
     "name": "stdout",
     "output_type": "stream",
     "text": [
      "\n",
      " Variance Inflation Factor\n",
      "당사자종별가해자_화물차 1.0377425631218156\n",
      "도로형태_횡단보도부근 1.0052934695867624\n",
      "사고유형_대분류_차대사람 1.105256496015049\n",
      "연령피해자 1.03144884625016\n",
      "주야_주 1.0736120414535848\n",
      "차량용도가해자_비사업용 어린이통학버스 1.0046948387670045\n",
      "차량용도가해자_사업용 개별화물 1.0024797053993568\n",
      "차량용도가해자_사업용 개인택시 1.0231103077574475\n",
      "차량용도가해자_사업용 시내버스 1.1435542443778464\n",
      "행동유형가해자_앞지르기중 1.023851625193903\n",
      "행동유형가해자_주정차중 1.0933268466599975\n",
      "행동유형피해자_보행자 횡단보도외 1.056785622376775\n"
     ]
    }
   ],
   "source": [
    "print(\"\\n Variance Inflation Factor\")\n",
    "cnames = (x_train.drop(remove_cols, axis=1)).columns\n",
    "\n",
    "for i in np.arange(0, len(cnames)):\n",
    "    xvars = list(cnames)\n",
    "    yvar = xvars.pop(i)\n",
    "    mod = sm.OLS(x_train[yvar].astype(float), sm.add_constant(x_train_new[xvars].astype(float)))\n",
    "    res = mod.fit()\n",
    "    vif = 1/(1-res.rsquared)\n",
    "    print(yvar, vif)"
   ]
  },
  {
   "cell_type": "code",
   "execution_count": 20,
   "metadata": {},
   "outputs": [],
   "source": [
    "y_pred = full_res.predict(x_test_new.drop(remove_cols, axis=1))\n",
    "y_pred_df = pd.DataFrame(y_pred)\n",
    "y_pred_df.columns = ['y_pred']\n",
    "\n",
    "pred_data = pd.DataFrame(y_pred_df['y_pred'])\n",
    "y_test_new = pd.DataFrame(y_test)\n",
    "y_test_new.reset_index(inplace=True)\n",
    "pred_data['y_test'] = pd.DataFrame(y_test_new['도로심각도지수basic'])"
   ]
  },
  {
   "cell_type": "code",
   "execution_count": 22,
   "metadata": {},
   "outputs": [
    {
     "name": "stdout",
     "output_type": "stream",
     "text": [
      "\n",
      "Test R-squared value: -0.0461\n"
     ]
    }
   ],
   "source": [
    "from sklearn.metrics import r2_score\n",
    "\n",
    "R_squared = r2_score(y_test_new['도로심각도지수basic'].tolist(), y_pred_df['y_pred'].tolist())\n",
    "print(\"\\nTest R-squared value:\", round(R_squared, 4))"
   ]
  }
 ],
 "metadata": {
  "kernelspec": {
   "display_name": "Python 3",
   "language": "python",
   "name": "python3"
  },
  "language_info": {
   "codemirror_mode": {
    "name": "ipython",
    "version": 3
   },
   "file_extension": ".py",
   "mimetype": "text/x-python",
   "name": "python",
   "nbconvert_exporter": "python",
   "pygments_lexer": "ipython3",
   "version": "3.7.6"
  }
 },
 "nbformat": 4,
 "nbformat_minor": 4
}
