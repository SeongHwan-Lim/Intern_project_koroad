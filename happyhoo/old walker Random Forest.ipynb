{
 "cells": [
  {
   "cell_type": "code",
   "execution_count": 1,
   "metadata": {},
   "outputs": [],
   "source": [
    "import pandas as pd\n",
    "import numpy as np\n",
    "\n",
    "from sklearn.model_selection import train_test_split,GridSearchCV\n",
    "from sklearn.ensemble import RandomForestClassifier\n",
    "from sklearn.pipeline import Pipeline\n",
    "\n",
    "walker_60_suwon = pd.read_csv(\"D:\\\\jupyter_proj\\\\walker_60_suwon.csv\")"
   ]
  },
  {
   "cell_type": "code",
   "execution_count": 2,
   "metadata": {},
   "outputs": [
    {
     "name": "stdout",
     "output_type": "stream",
     "text": [
      "Q1 = 0.0068\n",
      "Q2 = 0.1168\n",
      "Q3 = 0.1168\n",
      "Q4 = 1.0068\n"
     ]
    }
   ],
   "source": [
    "Q1 = walker_60_suwon['도로심각도지수basic'].quantile(.25)\n",
    "Q3 = walker_60_suwon['도로심각도지수basic'].quantile(.75)\n",
    "Q2 = walker_60_suwon['도로심각도지수basic'].quantile(.5)\n",
    "Q4 = walker_60_suwon['도로심각도지수basic'].quantile(1)\n",
    "\n",
    "print(\"Q1 =\",Q1)\n",
    "print(\"Q2 =\",Q2)\n",
    "print(\"Q3 =\",Q3)\n",
    "print(\"Q4 =\",Q4)"
   ]
  },
  {
   "cell_type": "code",
   "execution_count": 3,
   "metadata": {
    "scrolled": true
   },
   "outputs": [
    {
     "name": "stderr",
     "output_type": "stream",
     "text": [
      "C:\\Anaconda3\\lib\\site-packages\\ipykernel_launcher.py:5: SettingWithCopyWarning: \n",
      "A value is trying to be set on a copy of a slice from a DataFrame\n",
      "\n",
      "See the caveats in the documentation: https://pandas.pydata.org/pandas-docs/stable/user_guide/indexing.html#returning-a-view-versus-a-copy\n",
      "  \"\"\"\n",
      "C:\\Anaconda3\\lib\\site-packages\\pandas\\core\\indexing.py:670: SettingWithCopyWarning: \n",
      "A value is trying to be set on a copy of a slice from a DataFrame\n",
      "\n",
      "See the caveats in the documentation: https://pandas.pydata.org/pandas-docs/stable/user_guide/indexing.html#returning-a-view-versus-a-copy\n",
      "  self._setitem_with_indexer(indexer, value)\n",
      "C:\\Anaconda3\\lib\\site-packages\\ipykernel_launcher.py:3: SettingWithCopyWarning: \n",
      "A value is trying to be set on a copy of a slice from a DataFrame\n",
      "\n",
      "See the caveats in the documentation: https://pandas.pydata.org/pandas-docs/stable/user_guide/indexing.html#returning-a-view-versus-a-copy\n",
      "  This is separate from the ipykernel package so we can avoid doing imports until\n",
      "C:\\Anaconda3\\lib\\site-packages\\ipykernel_launcher.py:7: SettingWithCopyWarning: \n",
      "A value is trying to be set on a copy of a slice from a DataFrame\n",
      "\n",
      "See the caveats in the documentation: https://pandas.pydata.org/pandas-docs/stable/user_guide/indexing.html#returning-a-view-versus-a-copy\n",
      "  import sys\n"
     ]
    }
   ],
   "source": [
    "for i in range(len(walker_60_suwon)):\n",
    "    if walker_60_suwon['도로심각도지수basic'][i] <= 0.0068:\n",
    "        walker_60_suwon['도로심각도지수basic'][i] = '하'\n",
    "    elif walker_60_suwon['도로심각도지수basic'][i] <= 0.1168:\n",
    "        walker_60_suwon['도로심각도지수basic'][i] = '중'\n",
    "    else:\n",
    "        walker_60_suwon['도로심각도지수basic'][i] = '상'"
   ]
  },
  {
   "cell_type": "code",
   "execution_count": 4,
   "metadata": {},
   "outputs": [],
   "source": [
    "from sklearn import preprocessing\n",
    "le = preprocessing.LabelEncoder()\n",
    "for column_name in walker_60_suwon.columns:\n",
    "    if walker_60_suwon[column_name].dtype == object:\n",
    "        walker_60_suwon[column_name] = le.fit_transform(walker_60_suwon[column_name])\n",
    "    else:\n",
    "        pass"
   ]
  },
  {
   "cell_type": "code",
   "execution_count": 5,
   "metadata": {},
   "outputs": [
    {
     "data": {
      "text/plain": [
       "array(['상', '중', '하'], dtype=object)"
      ]
     },
     "execution_count": 5,
     "metadata": {},
     "output_type": "execute_result"
    }
   ],
   "source": [
    "le.classes_"
   ]
  },
  {
   "cell_type": "code",
   "execution_count": 67,
   "metadata": {},
   "outputs": [],
   "source": [
    "np.random.seed(100)\n",
    "\n",
    "xval = walker_60_suwon[walker_60_suwon.columns.difference(['도로심각도지수basic'])]\n",
    "yval = walker_60_suwon['도로심각도지수basic']\n",
    "\n",
    "x_train, x_test, y_train, y_test = train_test_split(xval, yval, train_size=0.7, random_state=97)\n",
    "pipeline = Pipeline([('clf', RandomForestClassifier(criterion='gini', class_weight = 'balanced_subsample'))])"
   ]
  },
  {
   "cell_type": "code",
   "execution_count": 68,
   "metadata": {},
   "outputs": [],
   "source": [
    "parameters = {\n",
    "    'clf__n_estimators':(1000,1500, 2000, 2500, 3000, 3500),\n",
    "    'clf__max_depth':(5,10, 15, 20, 30),\n",
    "    'clf__min_samples_split':(2,3),\n",
    "    'clf__min_samples_leaf':(1,2)\n",
    "}"
   ]
  },
  {
   "cell_type": "code",
   "execution_count": 71,
   "metadata": {},
   "outputs": [],
   "source": [
    "x_train = x_train.drop('Unnamed: 0', axis=1)"
   ]
  },
  {
   "cell_type": "code",
   "execution_count": 72,
   "metadata": {},
   "outputs": [],
   "source": [
    "x_test = x_test.drop('Unnamed: 0', axis=1)"
   ]
  },
  {
   "cell_type": "code",
   "execution_count": 75,
   "metadata": {},
   "outputs": [
    {
     "data": {
      "text/plain": [
       "Index(['가해자성별', '교차로형태', '기상상태', '노면상태', '노면상태_대분류', '노인보호구역', '당사자종별가해자',\n",
       "       '당사자종별피해자', '도로선형', '도로선형_대분류', '도로선형_중분류', '도로종류', '도로형태', '법규위반가해자',\n",
       "       '보호장구가해자_대분류', '보호장구피해자_대분류', '사고유형', '사고유형_대분류', '어린이보호구역', '연령가해자',\n",
       "       '연령피해자', '요일', '주야', '차량용도가해자', '차량용도가해자_대분류', '차량용도피해자', '차량용도피해자_대분류',\n",
       "       '피해자성별', '행동유형가해자', '행동유형피해자', '행동유형피해자_대분류'],\n",
       "      dtype='object')"
      ]
     },
     "execution_count": 75,
     "metadata": {},
     "output_type": "execute_result"
    }
   ],
   "source": [
    "x_test.columns"
   ]
  },
  {
   "cell_type": "code",
   "execution_count": 76,
   "metadata": {},
   "outputs": [
    {
     "name": "stdout",
     "output_type": "stream",
     "text": [
      "Fitting 5 folds for each of 120 candidates, totalling 600 fits\n"
     ]
    },
    {
     "name": "stderr",
     "output_type": "stream",
     "text": [
      "[Parallel(n_jobs=-1)]: Using backend LokyBackend with 4 concurrent workers.\n",
      "[Parallel(n_jobs=-1)]: Done  42 tasks      | elapsed:  1.7min\n",
      "[Parallel(n_jobs=-1)]: Done 192 tasks      | elapsed:  8.2min\n",
      "[Parallel(n_jobs=-1)]: Done 442 tasks      | elapsed: 20.2min\n",
      "[Parallel(n_jobs=-1)]: Done 600 out of 600 | elapsed: 27.7min finished\n"
     ]
    },
    {
     "name": "stdout",
     "output_type": "stream",
     "text": [
      "Best Training score : 0.540\n",
      "Best parameter set:\n",
      "\tclf__max_depth: 10\n",
      "\tclf__min_samples_leaf: 2\n",
      "\tclf__min_samples_split: 2\n",
      "\tclf__n_estimators: 3000\n"
     ]
    }
   ],
   "source": [
    "grid_search = GridSearchCV(pipeline, parameters, n_jobs=-1, cv=5, verbose=1, scoring='accuracy')\n",
    "grid_search.fit(x_train, y_train)\n",
    "\n",
    "np.random.seed(100)\n",
    "\n",
    "print('Best Training score : %0.3f' %grid_search.best_score_)\n",
    "print('Best parameter set:')\n",
    "best_parameters = grid_search.best_estimator_.get_params()\n",
    "for param_name in sorted(parameters.keys()):\n",
    "    print('\\t%s: %r' %(param_name, best_parameters[param_name]))"
   ]
  },
  {
   "cell_type": "code",
   "execution_count": 77,
   "metadata": {},
   "outputs": [
    {
     "name": "stdout",
     "output_type": "stream",
     "text": [
      "Testing accuracy: 0.54\n",
      "\n",
      "Complete report of Testing data\n",
      "               precision    recall  f1-score   support\n",
      "\n",
      "           0       0.17      0.04      0.06        26\n",
      "           1       0.60      0.57      0.58       237\n",
      "           2       0.48      0.58      0.53       174\n",
      "\n",
      "    accuracy                           0.54       437\n",
      "   macro avg       0.42      0.39      0.39       437\n",
      "weighted avg       0.53      0.54      0.53       437\n",
      "\n"
     ]
    }
   ],
   "source": [
    "from sklearn.metrics import accuracy_score, classification_report\n",
    "\n",
    "predictions = grid_search.predict(x_test)\n",
    "\n",
    "print(\"Testing accuracy:\", round(accuracy_score(y_test, predictions),4))\n",
    "print(\"\\nComplete report of Testing data\\n\", classification_report(y_test, predictions))"
   ]
  },
  {
   "cell_type": "code",
   "execution_count": 78,
   "metadata": {},
   "outputs": [
    {
     "name": "stdout",
     "output_type": "stream",
     "text": [
      "\n",
      "\n",
      "Random Forest Grid Search- Test Confusion Matrix\n",
      "\n",
      " Predicted  0    1    2\n",
      "Actuall               \n",
      "0          1   16    9\n",
      "1          4  134   99\n",
      "2          1   72  101\n"
     ]
    }
   ],
   "source": [
    "print('\\n\\nRandom Forest Grid Search- Test Confusion Matrix\\n\\n', pd.crosstab(y_test, predictions, rownames=[\"Actuall\"],colnames=[\"Predicted\"]))"
   ]
  },
  {
   "cell_type": "code",
   "execution_count": 41,
   "metadata": {},
   "outputs": [
    {
     "data": {
      "text/plain": [
       "array([[  3,  15,   8],\n",
       "       [ 22, 113, 102],\n",
       "       [ 12,  59, 103]], dtype=int64)"
      ]
     },
     "execution_count": 41,
     "metadata": {},
     "output_type": "execute_result"
    }
   ],
   "source": [
    "from sklearn.metrics import confusion_matrix\n",
    "\n",
    "confusion_matrix(y_test,predictions)"
   ]
  },
  {
   "cell_type": "code",
   "execution_count": 79,
   "metadata": {},
   "outputs": [
    {
     "name": "stdout",
     "output_type": "stream",
     "text": [
      "\n",
      "Feature ranking:\n",
      "\n",
      "Feature 19 , 연령가해자 0.1348\n",
      "Feature 20 , 연령피해자 0.1221\n",
      "Feature 29 , 행동유형피해자 0.0807\n",
      "Feature 21 , 요일 0.0659\n",
      "Feature 6 , 당사자종별가해자 0.0612\n",
      "Feature 23 , 차량용도가해자 0.0596\n",
      "Feature 28 , 행동유형가해자 0.0524\n",
      "Feature 16 , 사고유형 0.0431\n",
      "Feature 17 , 사고유형_대분류 0.0429\n",
      "Feature 12 , 도로형태 0.0381\n",
      "Feature 11 , 도로종류 0.0366\n",
      "Feature 13 , 법규위반가해자 0.0314\n",
      "Feature 0 , 가해자성별 0.0313\n",
      "Feature 1 , 교차로형태 0.03\n",
      "Feature 24 , 차량용도가해자_대분류 0.0288\n",
      "Feature 27 , 피해자성별 0.0287\n",
      "Feature 14 , 보호장구가해자_대분류 0.0261\n",
      "Feature 22 , 주야 0.0221\n",
      "Feature 8 , 도로선형 0.0154\n",
      "Feature 2 , 기상상태 0.0148\n",
      "Feature 3 , 노면상태 0.0095\n",
      "Feature 4 , 노면상태_대분류 0.009\n",
      "Feature 9 , 도로선형_대분류 0.0078\n",
      "Feature 10 , 도로선형_중분류 0.0076\n",
      "Feature 5 , 노인보호구역 0.0\n",
      "Feature 30 , 행동유형피해자_대분류 0.0\n",
      "Feature 7 , 당사자종별피해자 0.0\n",
      "Feature 18 , 어린이보호구역 0.0\n",
      "Feature 25 , 차량용도피해자 0.0\n",
      "Feature 26 , 차량용도피해자_대분류 0.0\n",
      "Feature 15 , 보호장구피해자_대분류 0.0\n"
     ]
    },
    {
     "data": {
      "image/png": "[encoded data removed]",
      "text/plain": [
       "<Figure size 432x288 with 1 Axes>"
      ]
     },
     "metadata": {
      "needs_background": "light"
     },
     "output_type": "display_data"
    }
   ],
   "source": [
    "import matplotlib.pyplot as plt\n",
    "\n",
    "rf_fit = RandomForestClassifier(n_estimators=3000, criterion='gini', max_depth=10, min_samples_split=2, min_samples_leaf=2)\n",
    "rf_fit.fit(x_train, y_train)\n",
    "\n",
    "importances = rf_fit.feature_importances_\n",
    "std = np.std([tree.feature_importances_ for tree in rf_fit.estimators_], axis=0)\n",
    "\n",
    "indices = np.argsort(importances)[::-1]\n",
    "\n",
    "colnames = list(x_train.columns)\n",
    "\n",
    "print(\"\\nFeature ranking:\\n\")\n",
    "\n",
    "for f in range(x_train.shape[1]):\n",
    "    print(\"Feature\", indices[f], \",\", colnames[indices[f]], round(importances [indices[f]],4))\n",
    "    \n",
    "plt.figure()\n",
    "plt.bar(range(x_train.shape[1]), importances[indices], color='r', yerr=std[indices], align='center')\n",
    "plt.xticks(range(x_train.shape[1]), indices)\n",
    "plt.xlim([-1, x_train.shape[1]])\n",
    "plt.show()"
   ]
  }
 ],
 "metadata": {
  "kernelspec": {
   "display_name": "Python 3",
   "language": "python",
   "name": "python3"
  },
  "language_info": {
   "codemirror_mode": {
    "name": "ipython",
    "version": 3
   },
   "file_extension": ".py",
   "mimetype": "text/x-python",
   "name": "python",
   "nbconvert_exporter": "python",
   "pygments_lexer": "ipython3",
   "version": "3.7.6"
  }
 },
 "nbformat": 4,
 "nbformat_minor": 4
}
